{
  "nbformat": 4,
  "nbformat_minor": 0,
  "metadata": {
    "colab": {
      "provenance": [],
      "authorship_tag": "ABX9TyNOy1rmNdqFq1y24ja6VxSe",
      "include_colab_link": true
    },
    "kernelspec": {
      "name": "python3",
      "display_name": "Python 3"
    },
    "language_info": {
      "name": "python"
    }
  },
  "cells": [
    {
      "cell_type": "markdown",
      "metadata": {
        "id": "view-in-github",
        "colab_type": "text"
      },
      "source": [
        "<a href=\"https://colab.research.google.com/github/adityanandy2802/ml-dl-task/blob/main/SRIP_TASK_2.ipynb\" target=\"_parent\"><img src=\"https://colab.research.google.com/assets/colab-badge.svg\" alt=\"Open In Colab\"/></a>"
      ]
    },
    {
      "cell_type": "code",
      "execution_count": 1,
      "metadata": {
        "id": "y84vH9PVLnyW"
      },
      "outputs": [],
      "source": [
        "import torch\n",
        "import numpy as np\n",
        "import matplotlib.pyplot as plt"
      ]
    },
    {
      "cell_type": "markdown",
      "source": [
        "### Entropy:\n",
        "$Entropy = - \\Sigma p(x) \\log p(x)$"
      ],
      "metadata": {
        "id": "2TmmPgca0vW9"
      }
    },
    {
      "cell_type": "markdown",
      "source": [
        "We first start by defining our normal distribution class."
      ],
      "metadata": {
        "id": "6zqhRDZT1boX"
      }
    },
    {
      "cell_type": "code",
      "source": [
        "class normal_dist():\n",
        "  def __init__(self, s=0, m=0):\n",
        "    self.s=s\n",
        "    self.m=m\n",
        "  \n",
        "  def func(self, x: torch.Tensor) -> torch.Tensor:\n",
        "    y = (1/(self.s * np.sqrt(2 * np.pi))) * np.exp(-0.5 * ((x-self.m)/self.s)**2)\n",
        "    return y "
      ],
      "metadata": {
        "id": "VhlA44eYLueb"
      },
      "execution_count": 2,
      "outputs": []
    },
    {
      "cell_type": "markdown",
      "source": [
        "We specify our domain `[0.02, 10)`.\n",
        "We set $\\sigma=1, \\mu=5$ for our distribution"
      ],
      "metadata": {
        "id": "78y837dF1g_G"
      }
    },
    {
      "cell_type": "code",
      "source": [
        "x=torch.arange(0.02,10,0.02)\n",
        "sdev=1\n",
        "mean=5\n",
        "dist_=normal_dist(sdev, mean)\n",
        "y=dist_.func(x)\n",
        "\n",
        "plt.plot(x,y)\n",
        "plt.show()"
      ],
      "metadata": {
        "colab": {
          "base_uri": "https://localhost:8080/",
          "height": 265
        },
        "id": "k8Qku7vANOEo",
        "outputId": "efd3f8a4-349e-4c4d-952b-956a15e4a6c0"
      },
      "execution_count": 3,
      "outputs": [
        {
          "output_type": "display_data",
          "data": {
            "text/plain": [
              "<Figure size 432x288 with 1 Axes>"
            ],
            "image/png": "[encoded data removed]"
          },
          "metadata": {
            "needs_background": "light"
          }
        }
      ]
    },
    {
      "cell_type": "markdown",
      "source": [
        "We define our function and get the result"
      ],
      "metadata": {
        "id": "yAKsjE-l12Vz"
      }
    },
    {
      "cell_type": "code",
      "source": [
        "def entropy(y):\n",
        "  entropy=torch.sum(-1*y*np.log(y))\n",
        "  return entropy\n",
        "entropy(y)"
      ],
      "metadata": {
        "colab": {
          "base_uri": "https://localhost:8080/"
        },
        "id": "Iq9Ia6tXOgM5",
        "outputId": "d7fee0c8-a5c1-481d-bfa6-d6f0dfd90bd5"
      },
      "execution_count": 4,
      "outputs": [
        {
          "output_type": "execute_result",
          "data": {
            "text/plain": [
              "tensor(70.9465)"
            ]
          },
          "metadata": {},
          "execution_count": 4
        }
      ]
    },
    {
      "cell_type": "markdown",
      "source": [
        "### Mutual Information\n",
        "$Mutual Information=\\Sigma\\Sigma p(x,y) \\log\\frac{p(x,y)}{p(x)p(y)}$"
      ],
      "metadata": {
        "id": "oj8TPibY17cM"
      }
    },
    {
      "cell_type": "code",
      "source": [
        "import random\n",
        "x=[]\n",
        "y=[]\n",
        "x_list=[0,1]\n",
        "y_list=[0,1]\n",
        "# We define 2 arrays with random values between 0 and 1\n",
        "for i in range(10):\n",
        "  x.append(random.choice(x_list))\n",
        "  y.append(random.choice(y_list))\n",
        "x=torch.tensor(x)\n",
        "y=torch.tensor(y)\n",
        "\n",
        "# We define the joint probability p(x,y) below\n",
        "def joint_prob(x:torch.Tensor,y:torch.Tensor,val_x,val_y) -> float:\n",
        "  sum=0.0\n",
        "  for i in range(x.shape[0]):\n",
        "    if (x[i]==val_x and y[i]==val_y):\n",
        "      sum+=1\n",
        "  return sum/x.shape[0]\n",
        "\n",
        "# We define the marginal probability p(x) below\n",
        "def marginal_prob(x:torch.Tensor, val_x) -> float:\n",
        "  sum=0.0\n",
        "  for i in range(x.shape[0]):\n",
        "    if (x[i]==val_x):\n",
        "      sum+=1\n",
        "  return sum/x.shape[0]\n",
        "\n",
        "#From joint and marginal probabilities we get our mutual information\n",
        "def mutual_info(x:torch.Tensor,y:torch.Tensor) -> float:\n",
        "  val=0.0\n",
        "  for i in range(len(x_list)):\n",
        "    for j in range(len(y_list)):\n",
        "      joint=joint_prob(x,y,x_list[i],y_list[j])\n",
        "      marginal_x=marginal_prob(x,x_list[i])\n",
        "      marginal_y=marginal_prob(y,y_list[j])\n",
        "\n",
        "      if (joint == 0 or marginal_x == 0 or marginal_y==0):\n",
        "        val+=0\n",
        "      else:\n",
        "        val+=joint*np.log(joint/(marginal_x * marginal_y))/np.log(2)\n",
        "  return val\n",
        "\n",
        "mutual_info(x,y), x,y"
      ],
      "metadata": {
        "colab": {
          "base_uri": "https://localhost:8080/"
        },
        "id": "dMGhEkiDQMjH",
        "outputId": "883bb215-dbf5-4ed5-f627-dc6d40ccef63"
      },
      "execution_count": 5,
      "outputs": [
        {
          "output_type": "execute_result",
          "data": {
            "text/plain": [
              "(0.26899559358928105,\n",
              " tensor([1, 1, 1, 1, 1, 0, 1, 1, 1, 1]),\n",
              " tensor([0, 0, 0, 0, 1, 1, 0, 0, 0, 0]))"
            ]
          },
          "metadata": {},
          "execution_count": 5
        }
      ]
    },
    {
      "cell_type": "markdown",
      "source": [
        "###Cross Entropy\n",
        "$CrossEntropy=-\\Sigma p(x)\\log q(x)$"
      ],
      "metadata": {
        "id": "7N5NVVOL3ENo"
      }
    },
    {
      "cell_type": "code",
      "source": [
        "x=torch.rand(100000)\n",
        "y=torch.rand(100000)\n",
        "def cross_entropy(x,y) -> torch.Tensor:\n",
        "  return -torch.sum(x*np.log(y))\n",
        "cross_entropy(x,y)"
      ],
      "metadata": {
        "id": "mfNtXPkkvXVx",
        "colab": {
          "base_uri": "https://localhost:8080/"
        },
        "outputId": "efc76b4d-56e8-493e-d9b0-a241080a51df"
      },
      "execution_count": 10,
      "outputs": [
        {
          "output_type": "execute_result",
          "data": {
            "text/plain": [
              "tensor(49998.8633)"
            ]
          },
          "metadata": {},
          "execution_count": 10
        }
      ]
    },
    {
      "cell_type": "markdown",
      "source": [
        "### KL Divergence\n",
        "$KLDivergence=\\Sigma P(i) \\log\\frac{P(i)}{Q(i)}$"
      ],
      "metadata": {
        "id": "Sn0UFUlN3IPQ"
      }
    },
    {
      "cell_type": "code",
      "source": [
        "real=[]\n",
        "\n",
        "#We fill a list with 0 or 1 with random chance\n",
        "for i in range(10):\n",
        "  real.append(random.choice([0,1]))\n",
        "\n",
        "# We then create a real model, a 1st predicted model, and a 2nd predicted model\n",
        "real_model={1: 0.6, 0:0.4}\n",
        "predicted_model_1={1:0.95, 0:0.05}\n",
        "predicted_model_2={1:0.55, 0:0.45}\n",
        "\n",
        "real"
      ],
      "metadata": {
        "colab": {
          "base_uri": "https://localhost:8080/"
        },
        "id": "yMh4egZxBpwZ",
        "outputId": "e5dbdc4f-7d42-4d31-dfcb-ee3d2c8a50fd"
      },
      "execution_count": 12,
      "outputs": [
        {
          "output_type": "execute_result",
          "data": {
            "text/plain": [
              "[0, 1, 0, 0, 1, 1, 1, 1, 1, 0]"
            ]
          },
          "metadata": {},
          "execution_count": 12
        }
      ]
    },
    {
      "cell_type": "markdown",
      "source": [
        "The 2nd model is much closer to the actual model. Hence the KL Divergence is very close to 0."
      ],
      "metadata": {
        "id": "GVj6Z7eh4-Fr"
      }
    },
    {
      "cell_type": "code",
      "source": [
        "def kl_div(real, real_model, predicted_model):\n",
        "  val=0.0\n",
        "  for i in real:\n",
        "    p=real_model[i]\n",
        "    q=predicted_model[i]\n",
        "    val+=p*np.log(p/q)\n",
        "  return val\n",
        "\n",
        "kl_div(real, real_model,predicted_model_1), kl_div(real, real_model, predicted_model_2)"
      ],
      "metadata": {
        "colab": {
          "base_uri": "https://localhost:8080/"
        },
        "id": "56N-2dSaIFBl",
        "outputId": "596d29bd-78cf-4cde-ff3f-40ffc716c2ce"
      },
      "execution_count": 13,
      "outputs": [
        {
          "output_type": "execute_result",
          "data": {
            "text/plain": [
              "(2.679608527470907, -0.07520950809732199)"
            ]
          },
          "metadata": {},
          "execution_count": 13
        }
      ]
    }
  ]
}