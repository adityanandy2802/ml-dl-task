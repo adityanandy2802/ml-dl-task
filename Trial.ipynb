{
  "nbformat": 4,
  "nbformat_minor": 0,
  "metadata": {
    "colab": {
      "provenance": [],
      "authorship_tag": "ABX9TyOcxOmOf+H0GGj2wgCIpGdJ",
      "include_colab_link": true
    },
    "kernelspec": {
      "name": "python3",
      "display_name": "Python 3"
    },
    "language_info": {
      "name": "python"
    }
  },
  "cells": [
    {
      "cell_type": "markdown",
      "metadata": {
        "id": "view-in-github",
        "colab_type": "text"
      },
      "source": [
        "<a href=\"https://colab.research.google.com/github/adityanandy2802/ml-dl-task/blob/main/Trial.ipynb\" target=\"_parent\"><img src=\"https://colab.research.google.com/assets/colab-badge.svg\" alt=\"Open In Colab\"/></a>"
      ]
    },
    {
      "cell_type": "code",
      "execution_count": null,
      "metadata": {
        "id": "Swfvv5Mcz_Vj"
      },
      "outputs": [],
      "source": [
        "import torch\n",
        "import matplotlib.pyplot as plt\n",
        "import seaborn as sns\n",
        "import numpy as np"
      ]
    },
    {
      "cell_type": "code",
      "source": [
        "x=torch.arange(0.02,20,0.02)"
      ],
      "metadata": {
        "id": "Gy30Zcgm0Ehc"
      },
      "execution_count": null,
      "outputs": []
    },
    {
      "cell_type": "code",
      "source": [
        "class normal_dist():\n",
        "  def __init__(self, s, m):\n",
        "    self.s=s\n",
        "    self.m=m\n",
        "  \n",
        "  def func(self, x: torch.Tensor) -> torch.Tensor:\n",
        "    y = (1/(self.s[0] * torch.sqrt(torch.tensor(2 * np.pi)))) * torch.exp(-0.5 * ((x-self.m[0])/self.s[0])**2)\n",
        "    return y"
      ],
      "metadata": {
        "id": "I59sHe8n0GcT"
      },
      "execution_count": null,
      "outputs": []
    },
    {
      "cell_type": "code",
      "source": [
        "s1=torch.tensor([3.], requires_grad=True)\n",
        "m1=torch.tensor([15.], requires_grad=True)\n",
        "dist_1=normal_dist(s1,m1)"
      ],
      "metadata": {
        "id": "jJkAaw2R0HQz"
      },
      "execution_count": null,
      "outputs": []
    },
    {
      "cell_type": "code",
      "source": [
        "y1=dist_1.func(x)"
      ],
      "metadata": {
        "id": "Qjgcj2JB0K42"
      },
      "execution_count": null,
      "outputs": []
    },
    {
      "cell_type": "code",
      "source": [
        "plt.plot(x, y1.detach().numpy())\n",
        "plt.show()"
      ],
      "metadata": {
        "colab": {
          "base_uri": "https://localhost:8080/",
          "height": 265
        },
        "id": "O3z45Juu0Q6e",
        "outputId": "62298e94-6eb2-4e8d-f389-c8fc20475515"
      },
      "execution_count": null,
      "outputs": [
        {
          "output_type": "display_data",
          "data": {
            "text/plain": [
              "<Figure size 432x288 with 1 Axes>"
            ],
            "image/png": "[encoded data removed]"
          },
          "metadata": {
            "needs_background": "light"
          }
        }
      ]
    },
    {
      "cell_type": "code",
      "source": [
        "import random\n",
        "sdev=torch.tensor([100*random.random()], requires_grad=True)\n",
        "mean=torch.tensor([100*random.random()], requires_grad=True)\n",
        "pred_model=normal_dist(sdev,mean)"
      ],
      "metadata": {
        "id": "IGb1vz0g0X2C"
      },
      "execution_count": null,
      "outputs": []
    },
    {
      "cell_type": "code",
      "source": [
        "pred=pred_model.func(x)"
      ],
      "metadata": {
        "id": "jHuWEq1F0s2j"
      },
      "execution_count": null,
      "outputs": []
    },
    {
      "cell_type": "code",
      "source": [
        "def kl_div(model, prediction) -> torch.Tensor:\n",
        "  val=torch.sum(model*torch.log(model/prediction))\n",
        "  return val"
      ],
      "metadata": {
        "id": "t7C8Lx4Z0whg"
      },
      "execution_count": null,
      "outputs": []
    },
    {
      "cell_type": "code",
      "source": [
        "lr_list=[1e-1, 1e-2, 1e-3,1e-4]"
      ],
      "metadata": {
        "id": "ILK9a9ey40vq"
      },
      "execution_count": null,
      "outputs": []
    },
    {
      "cell_type": "code",
      "source": [
        "kl_list=[]"
      ],
      "metadata": {
        "id": "wsUIap6T089u"
      },
      "execution_count": null,
      "outputs": []
    },
    {
      "cell_type": "code",
      "source": [
        "for lr in lr_list:\n",
        "  opt=torch.optim.SGD([sdev,mean], lr)\n",
        "  for epoch in range(10000):\n",
        "    pred_model=normal_dist(sdev,mean)\n",
        "\n",
        "    pred=pred_model.func(x)\n",
        "\n",
        "    kl=kl_div((y1), pred)\n",
        "\n",
        "    kl.backward(retain_graph=True)\n",
        "    \n",
        "    opt.step()\n",
        "\n",
        "    opt.zero_grad()\n",
        "  kl_list.append(kl)\n",
        "\n",
        "    # print(\"kl: {}\".format(kl))\n",
        "print(\"best lr: {}\".format(lr_list[kl_list.index(min(kl_list))]))"
      ],
      "metadata": {
        "colab": {
          "base_uri": "https://localhost:8080/"
        },
        "id": "uIV-mwRS004B",
        "outputId": "9c7dbe2d-7807-4c3f-85a8-448cb2282124"
      },
      "execution_count": null,
      "outputs": [
        {
          "output_type": "stream",
          "name": "stdout",
          "text": [
            "best lr: 0.01\n"
          ]
        }
      ]
    },
    {
      "cell_type": "code",
      "source": [
        "opt=torch.optim.SGD([sdev, mean], 1e-2)\n",
        "for epoch in range(10000):\n",
        "  pred_model=normal_dist(sdev,mean)\n",
        "\n",
        "  pred=pred_model.func(x)\n",
        "\n",
        "  kl=kl_div((y1), pred)\n",
        "\n",
        "  kl.backward(retain_graph=True)\n",
        "  \n",
        "  opt.step()\n",
        "\n",
        "  opt.zero_grad()\n",
        "\n",
        "sdev, mean\n"
      ],
      "metadata": {
        "colab": {
          "base_uri": "https://localhost:8080/"
        },
        "id": "tW13AuHO6Aao",
        "outputId": "191e5f7f-18b3-4b2f-bacf-d6897e2b7935"
      },
      "execution_count": null,
      "outputs": [
        {
          "output_type": "execute_result",
          "data": {
            "text/plain": [
              "(tensor([2.7069], requires_grad=True), tensor([14.6847], requires_grad=True))"
            ]
          },
          "metadata": {},
          "execution_count": 29
        }
      ]
    },
    {
      "cell_type": "code",
      "source": [
        "plt.plot(x,y1.detach().numpy())\n",
        "plt.plot(x,pred.detach().numpy())\n",
        "plt.show()"
      ],
      "metadata": {
        "colab": {
          "base_uri": "https://localhost:8080/",
          "height": 265
        },
        "id": "r4r3pl1t2EGq",
        "outputId": "e4e0c90f-210f-47fc-aaf6-c05432464775"
      },
      "execution_count": null,
      "outputs": [
        {
          "output_type": "display_data",
          "data": {
            "text/plain": [
              "<Figure size 432x288 with 1 Axes>"
            ],
            "image/png": "[encoded data removed]"
          },
          "metadata": {
            "needs_background": "light"
          }
        }
      ]
    }
  ]
}